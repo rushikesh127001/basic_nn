{
 "cells": [
  {
   "cell_type": "code",
   "execution_count": 110,
   "metadata": {
    "collapsed": true
   },
   "outputs": [],
   "source": [
    "\n",
    "import pandas as pd\n",
    "import numpy as np\n",
    "import matplotlib.pyplot as plt\n",
    "from sklearn.model_selection import train_test_split\n",
    "import matplotlib.image as mpimg\n",
    "%matplotlib inline"
   ]
  },
  {
   "cell_type": "code",
   "execution_count": 111,
   "outputs": [],
   "source": [
    "train=pd.read_csv(\"data/train.csv\")\n",
    "test=pd.read_csv(\"data/test.csv\")\n"
   ],
   "metadata": {
    "collapsed": false,
    "pycharm": {
     "name": "#%%\n"
    }
   }
  },
  {
   "cell_type": "code",
   "execution_count": 112,
   "outputs": [
    {
     "data": {
      "text/plain": "<Figure size 432x288 with 1 Axes>",
      "image/png": "[encoded data removed]"
     },
     "metadata": {
      "needs_background": "light"
     },
     "output_type": "display_data"
    }
   ],
   "source": [
    "# having a look at the data... as images are 28x28 pixels..quality is blur.\n",
    "\n",
    "gg=train.iloc[69,1:]\n",
    "ggg=np.array(gg).reshape(28,28)\n",
    "imgplot = plt.imshow(ggg)"
   ],
   "metadata": {
    "collapsed": false,
    "pycharm": {
     "name": "#%%\n"
    }
   }
  },
  {
   "cell_type": "code",
   "execution_count": 113,
   "outputs": [],
   "source": [
    "training=np.array(train.iloc[:,1:])\n",
    "training=training"
   ],
   "metadata": {
    "collapsed": false,
    "pycharm": {
     "name": "#%%\n"
    }
   }
  },
  {
   "cell_type": "code",
   "execution_count": 114,
   "outputs": [],
   "source": [
    "labels=train.iloc[:,0:1]\n",
    "labels=labels"
   ],
   "metadata": {
    "collapsed": false,
    "pycharm": {
     "name": "#%%\n"
    }
   }
  },
  {
   "cell_type": "code",
   "execution_count": 115,
   "outputs": [],
   "source": [
    "# test train split...each column is an example..each row is a feature\n",
    "X_train, X_test, y_train, y_test = train_test_split(training, labels, test_size=0.05, random_state=69)\n",
    "X_train=X_train.T\n",
    "X_test=X_test.T\n",
    "y_train=y_train.T\n",
    "y_test=y_test.T"
   ],
   "metadata": {
    "collapsed": false,
    "pycharm": {
     "name": "#%%\n"
    }
   }
  },
  {
   "cell_type": "code",
   "execution_count": 116,
   "outputs": [],
   "source": [
    "# standardize inputs\n",
    "X_train = X_train/255.\n",
    "X_test =X_test/255.\n"
   ],
   "metadata": {
    "collapsed": false,
    "pycharm": {
     "name": "#%%\n"
    }
   }
  },
  {
   "cell_type": "code",
   "execution_count": 117,
   "outputs": [],
   "source": [
    "# lets have a 6 layer nn with 5 nuerons in each layer...we can set this to any num later for optimiztion\n",
    "layers=7\n",
    "neurons_each_layer=8"
   ],
   "metadata": {
    "collapsed": false,
    "pycharm": {
     "name": "#%%\n"
    }
   }
  },
  {
   "cell_type": "code",
   "execution_count": 118,
   "outputs": [],
   "source": [
    "# lets have a each intermiedtiate layer computing relu function a\n",
    "# and output layer computing a sigmoid func\n",
    "# thesr functions also output an cache ..which will be used during backprop\n",
    "\n",
    "def relu(input):\n",
    "    out=np.maximum(0,input)\n",
    "    cache=out\n",
    "    return out\n",
    "\n",
    "def sigmoid(input):\n",
    "    sig= 1/(1+np.exp(-input))\n",
    "    cache=sig\n",
    "    return  sig"
   ],
   "metadata": {
    "collapsed": false,
    "pycharm": {
     "name": "#%%\n"
    }
   }
  },
  {
   "cell_type": "code",
   "execution_count": 119,
   "outputs": [
    {
     "name": "stdout",
     "output_type": "stream",
     "text": [
      "[4, 5, 5, 5, 5, 5, 1]\n"
     ]
    }
   ],
   "source": [
    "# cachesss\n",
    "W={}\n",
    "B={}\n",
    "Z={}\n",
    "A={}\n",
    "#z_cache={}\n",
    "#a_cache={}"
   ],
   "metadata": {
    "collapsed": false,
    "pycharm": {
     "name": "#%%\n"
    }
   }
  },
  {
   "cell_type": "code",
   "execution_count": null,
   "outputs": [],
   "source": [
    "# initialize parameters and bias w,b\n",
    "#w is random while bias is initialized to 0\n",
    "# W is dictioary containing the w1 w2 w3.. values same way B is dictionary\n",
    "neurons_list=[]\n",
    "#neurons_list.append(X_train.shape[0])\n",
    "for i in  range(1,layers):\n",
    "    a=input(\"Enter neurons in layer {}\".format(i))\n",
    "    a=int(a)\n",
    "    neurons_list.append(a)\n",
    "\n",
    "neurons_list.append(1)\n",
    "print(neurons_list)"
   ],
   "metadata": {
    "collapsed": false,
    "pycharm": {
     "name": "#%%\n"
    }
   }
  },
  {
   "cell_type": "code",
   "execution_count": 120,
   "outputs": [],
   "source": [
    "#init\n",
    "\n",
    "for i,item in enumerate(neurons_list):\n",
    "    if i==0:\n",
    "        W[\"w0\"]=np.random.randn(item,784)*.05\n",
    "        B[\"b0\"]=np.zeros((item,1))\n",
    "    else:\n",
    "        W[\"w\"+str(i)]=np.random.randn(item,neurons_list[i-1])*.05\n",
    "        B['b'+str(i)]=np.zeros((item,1))\n",
    "\n",
    "#print(W[\"w{}\".format(i)].shape)\n"
   ],
   "metadata": {
    "collapsed": false,
    "pycharm": {
     "name": "#%%\n"
    }
   }
  },
  {
   "cell_type": "code",
   "execution_count": 121,
   "outputs": [],
   "source": [
    "def compute_cost(last_layers,truth_vals):\n",
    "    m=truth_vals.shape[1]\n",
    "    #//print(m)\n",
    "    #print(last_layers.shape)\n",
    "    cost=(np.sum((truth_vals*np.log(last_layers))+(1-truth_vals)*np.log(1-last_layers)))/-m\n",
    "    cost = np.squeeze(cost)\n",
    "    print(\"Cost is: \"+str(cost))"
   ],
   "metadata": {
    "collapsed": false,
    "pycharm": {
     "name": "#%%\n"
    }
   }
  },
  {
   "cell_type": "code",
   "execution_count": 122,
   "outputs": [
    {
     "name": "stdout",
     "output_type": "stream",
     "text": [
      "Cost is: 38434    0.000017\n",
      "18057    0.000017\n",
      "21320    0.000017\n",
      "39492    0.000017\n",
      "11315    0.000017\n",
      "           ...   \n",
      "37142    0.000017\n",
      "11825    0.000017\n",
      "25015    0.000017\n",
      "9818     0.000017\n",
      "4041     0.000017\n",
      "Length: 39900, dtype: float64\n",
      "Cost is: 38434    0.000017\n",
      "18057    0.000017\n",
      "21320    0.000017\n",
      "39492    0.000017\n",
      "11315    0.000017\n",
      "           ...   \n",
      "37142    0.000017\n",
      "11825    0.000017\n",
      "25015    0.000017\n",
      "9818     0.000017\n",
      "4041     0.000017\n",
      "Length: 39900, dtype: float64\n",
      "Cost is: 38434    0.000017\n",
      "18057    0.000017\n",
      "21320    0.000017\n",
      "39492    0.000017\n",
      "11315    0.000017\n",
      "           ...   \n",
      "37142    0.000017\n",
      "11825    0.000017\n",
      "25015    0.000017\n",
      "9818     0.000017\n",
      "4041     0.000017\n",
      "Length: 39900, dtype: float64\n",
      "Cost is: 38434    0.000017\n",
      "18057    0.000017\n",
      "21320    0.000017\n",
      "39492    0.000017\n",
      "11315    0.000017\n",
      "           ...   \n",
      "37142    0.000017\n",
      "11825    0.000017\n",
      "25015    0.000017\n",
      "9818     0.000017\n",
      "4041     0.000017\n",
      "Length: 39900, dtype: float64\n",
      "Cost is: 38434    0.000017\n",
      "18057    0.000017\n",
      "21320    0.000017\n",
      "39492    0.000017\n",
      "11315    0.000017\n",
      "           ...   \n",
      "37142    0.000017\n",
      "11825    0.000017\n",
      "25015    0.000017\n",
      "9818     0.000017\n",
      "4041     0.000017\n",
      "Length: 39900, dtype: float64\n",
      "Cost is: 38434    0.000017\n",
      "18057    0.000017\n",
      "21320    0.000017\n",
      "39492    0.000017\n",
      "11315    0.000017\n",
      "           ...   \n",
      "37142    0.000017\n",
      "11825    0.000017\n",
      "25015    0.000017\n",
      "9818     0.000017\n",
      "4041     0.000017\n",
      "Length: 39900, dtype: float64\n",
      "Cost is: 38434    0.000017\n",
      "18057    0.000017\n",
      "21320    0.000017\n",
      "39492    0.000017\n",
      "11315    0.000017\n",
      "           ...   \n",
      "37142    0.000017\n",
      "11825    0.000017\n",
      "25015    0.000017\n",
      "9818     0.000017\n",
      "4041     0.000017\n",
      "Length: 39900, dtype: float64\n",
      "Cost is: 38434    0.000017\n",
      "18057    0.000017\n",
      "21320    0.000017\n",
      "39492    0.000017\n",
      "11315    0.000017\n",
      "           ...   \n",
      "37142    0.000017\n",
      "11825    0.000017\n",
      "25015    0.000017\n",
      "9818     0.000017\n",
      "4041     0.000017\n",
      "Length: 39900, dtype: float64\n",
      "Cost is: 38434    0.000017\n",
      "18057    0.000017\n",
      "21320    0.000017\n",
      "39492    0.000017\n",
      "11315    0.000017\n",
      "           ...   \n",
      "37142    0.000017\n",
      "11825    0.000017\n",
      "25015    0.000017\n",
      "9818     0.000017\n",
      "4041     0.000017\n",
      "Length: 39900, dtype: float64\n",
      "Cost is: 38434    0.000017\n",
      "18057    0.000017\n",
      "21320    0.000017\n",
      "39492    0.000017\n",
      "11315    0.000017\n",
      "           ...   \n",
      "37142    0.000017\n",
      "11825    0.000017\n",
      "25015    0.000017\n",
      "9818     0.000017\n",
      "4041     0.000017\n",
      "Length: 39900, dtype: float64\n",
      "Cost is: 38434    0.000017\n",
      "18057    0.000017\n",
      "21320    0.000017\n",
      "39492    0.000017\n",
      "11315    0.000017\n",
      "           ...   \n",
      "37142    0.000017\n",
      "11825    0.000017\n",
      "25015    0.000017\n",
      "9818     0.000017\n",
      "4041     0.000017\n",
      "Length: 39900, dtype: float64\n",
      "Cost is: 38434    0.000017\n",
      "18057    0.000017\n",
      "21320    0.000017\n",
      "39492    0.000017\n",
      "11315    0.000017\n",
      "           ...   \n",
      "37142    0.000017\n",
      "11825    0.000017\n",
      "25015    0.000017\n",
      "9818     0.000017\n",
      "4041     0.000017\n",
      "Length: 39900, dtype: float64\n",
      "Cost is: 38434    0.000017\n",
      "18057    0.000017\n",
      "21320    0.000017\n",
      "39492    0.000017\n",
      "11315    0.000017\n",
      "           ...   \n",
      "37142    0.000017\n",
      "11825    0.000017\n",
      "25015    0.000017\n",
      "9818     0.000017\n",
      "4041     0.000017\n",
      "Length: 39900, dtype: float64\n",
      "Cost is: 38434    0.000017\n",
      "18057    0.000017\n",
      "21320    0.000017\n",
      "39492    0.000017\n",
      "11315    0.000017\n",
      "           ...   \n",
      "37142    0.000017\n",
      "11825    0.000017\n",
      "25015    0.000017\n",
      "9818     0.000017\n",
      "4041     0.000017\n",
      "Length: 39900, dtype: float64\n",
      "[[0.49999993 0.49999994 0.50000001 ... 0.49999999 0.50000002 0.50000003]]\n"
     ]
    }
   ],
   "source": [
    "# forward propagate\n",
    "\n",
    "def forward_prop():\n",
    "    for i,item in enumerate(neurons_list):\n",
    "            if i==0:\n",
    "                Z[\"z0\"]=W[\"w0\"].dot(X_train)+B[\"b0\"]\n",
    "                A['a0'],a_cache[\"a0\"]=relu(Z[\"z0\"])\n",
    "            elif i==(len(neurons_list)-1):\n",
    "                Z[\"z{}\".format(i)]=W[\"w\"+str(i)].dot(Z[\"z{}\".format(i-1)])+B[\"b\"+str(i)]\n",
    "                A[\"a\"+str(i)],a_cache[\"a\"+str(i)]=sigmoid(Z[\"z\"+str(i)])\n",
    "            else:\n",
    "                Z[\"z{}\".format(i)]=W[\"w\"+str(i)].dot(Z[\"z{}\".format(i-1)])+B[\"b\"+str(i)]\n",
    "                A[\"a\"+str(i)],a_cache[\"a\"+str(i)]=relu(Z[\"z\"+str(i)])"
   ],
   "metadata": {
    "collapsed": false,
    "pycharm": {
     "name": "#%%\n"
    }
   }
  },
  {
   "cell_type": "code",
   "execution_count": null,
   "outputs": [],
   "source": [
    "def nn_model(Y,iterss=1500):\n",
    "    for iterations in range(1,iterss):\n",
    "        forward_prop()\n",
    "\n",
    "\n",
    "        if (iterations%100==0):\n",
    "            compute_cost(A[\"a6\"],y_train)#+str(len(neurons_list)-1)\n",
    "\n",
    "nn_model(y_train,1500)\n",
    "print(A[\"a6\"])\n"
   ],
   "metadata": {
    "collapsed": false,
    "pycharm": {
     "name": "#%%\n"
    }
   }
  },
  {
   "cell_type": "code",
   "execution_count": 123,
   "outputs": [
    {
     "name": "stdout",
     "output_type": "stream",
     "text": [
      "[[0.         0.         0.33384031 ... 0.         0.         0.18630955]\n",
      " [0.20593447 0.42552632 0.13336906 ... 0.02359484 0.         0.13911058]\n",
      " [0.53300694 0.         0.20671467 ... 0.         0.         0.07169602]\n",
      " [0.02645196 0.         0.05433335 ... 0.27789294 0.31798456 0.        ]]\n"
     ]
    }
   ],
   "source": [
    "print(A[\"a0\"])\n",
    "\n",
    "\n"
   ],
   "metadata": {
    "collapsed": false,
    "pycharm": {
     "name": "#%%\n"
    }
   }
  }
 ],
 "metadata": {
  "kernelspec": {
   "name": "pycharm-9aff8f00",
   "language": "python",
   "display_name": "PyCharm (scientificProject)"
  },
  "language_info": {
   "codemirror_mode": {
    "name": "ipython",
    "version": 2
   },
   "file_extension": ".py",
   "mimetype": "text/x-python",
   "name": "python",
   "nbconvert_exporter": "python",
   "pygments_lexer": "ipython2",
   "version": "2.7.6"
  }
 },
 "nbformat": 4,
 "nbformat_minor": 0
}